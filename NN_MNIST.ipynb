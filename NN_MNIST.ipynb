{
  "nbformat": 4,
  "nbformat_minor": 0,
  "metadata": {
    "colab": {
      "provenance": [],
      "gpuType": "T4"
    },
    "kernelspec": {
      "name": "python3",
      "display_name": "Python 3"
    },
    "language_info": {
      "name": "python"
    },
    "accelerator": "GPU"
  },
  "cells": [
    {
      "cell_type": "markdown",
      "source": [
        "Machine Learning model for recognizing digits from the MNIST dataset"
      ],
      "metadata": {
        "id": "zbjNVGbxSfGl"
      }
    },
    {
      "cell_type": "code",
      "execution_count": null,
      "metadata": {
        "id": "m1ZXuQAFScIe"
      },
      "outputs": [],
      "source": [
        "!pip install torch matplotlib torchvision"
      ]
    },
    {
      "cell_type": "code",
      "source": [
        "import torch\n",
        "import torchvision\n",
        "import torchvision.transforms as transforms\n",
        "import matplotlib.pyplot as plt\n",
        "import numpy as np\n",
        "import torch.nn as nn\n",
        "import torch.optim as optim\n",
        "\n",
        "# Check if CUDA is available\n",
        "if torch.cuda.is_available():\n",
        "    print(f\"CUDA is available! Device: {torch.cuda.get_device_name(0)}\")\n",
        "else:\n",
        "    print(\"CUDA is not available. Check runtime settings.\")"
      ],
      "metadata": {
        "id": "RjXHsF5zSu8t"
      },
      "execution_count": null,
      "outputs": []
    },
    {
      "cell_type": "code",
      "source": [
        "# Define transformations for the training and test sets\n",
        "transform = transforms.Compose(\n",
        "    [transforms.ToTensor(), # converts a PIL image to a tensor and transforms the values {0,...255} --> [0, 1]\n",
        "     transforms.Normalize(0.5, 0.5)]) # first tuple -> means, second tuple -> std's. output=(input-mean)/std\n",
        "# The image has three color channels (RGB) and therefore the tuples have three elements, one for each color\n",
        "\n",
        "# Batch sizez\n",
        "train_batch_size = 8\n",
        "test_batch_size = 4\n",
        "\n",
        "# Download and load the training data\n",
        "trainset = torchvision.datasets.MNIST(root='./data', train=True,\n",
        "                                        download=True, transform=transform)\n",
        "trainloader = torch.utils.data.DataLoader(trainset, batch_size=train_batch_size,\n",
        "                                          shuffle=True, num_workers=2)\n",
        "\n",
        "# Download and load the test data\n",
        "testset = torchvision.datasets.MNIST(root='./data', train=False,\n",
        "                                       download=True, transform=transform)\n",
        "testloader = torch.utils.data.DataLoader(testset, batch_size=test_batch_size,\n",
        "                                         shuffle=False, num_workers=2)\n",
        "\n",
        "# Define class names\n",
        "classes = ('0', '1', '2', '3', '4', '5', '6', '7', '8', '9')\n",
        "\n",
        "\n",
        "# Assuming 'net' is your model and 'inputs', 'labels' are your data\n",
        "device = torch.device(\"cuda:0\" if torch.cuda.is_available() else \"cpu\")"
      ],
      "metadata": {
        "id": "8HWq27gVS0Pc"
      },
      "execution_count": null,
      "outputs": []
    },
    {
      "cell_type": "code",
      "source": [
        "# Functions to show an image\n",
        "def imshow(img):\n",
        "    img = img / 2 + 0.5  # unnormalize - [-1,1] --> [0,1]\n",
        "    npimg = img.numpy()\n",
        "    plt.imshow(np.transpose(npimg, (1, 2, 0)))\n",
        "    plt.show()\n",
        "\n",
        "# Get some random training images\n",
        "dataiter = iter(trainloader)\n",
        "images, labels = next(dataiter)\n",
        "# images, labels = images.to(device), labels.to(device)\n",
        "\n",
        "# Show images\n",
        "imshow(torchvision.utils.make_grid(images))\n",
        "# Print labels\n",
        "print(' '.join(f'{classes[labels[j]]}' for j in range(train_batch_size)))"
      ],
      "metadata": {
        "id": "A49aCYT4TZsc"
      },
      "execution_count": null,
      "outputs": []
    },
    {
      "cell_type": "code",
      "source": [
        "class Net(nn.Module):\n",
        "    def __init__(self):\n",
        "        super().__init__()\n",
        "        self.flatten = nn.Flatten()\n",
        "        self.linear_relu_stack = nn.Sequential(\n",
        "            nn.Linear(28*28, 256),\n",
        "            nn.ReLU(),\n",
        "            nn.Linear(256, 256),\n",
        "            nn.ReLU(),\n",
        "            nn.Linear(256, 10),\n",
        "        )\n",
        "\n",
        "    def forward(self, x):\n",
        "        x = self.flatten(x)\n",
        "        x = self.linear_relu_stack(x)\n",
        "        return x\n",
        "\n",
        "net = Net()\n",
        "\n",
        "# Assuming 'net' is your model and 'inputs', 'labels' are your data\n",
        "device = torch.device(\"cuda:0\" if torch.cuda.is_available() else \"cpu\")\n",
        "\n",
        "# Move model to the device (GPU or CPU)\n",
        "net.to(device)\n",
        "\n",
        "# Example of moving tensors to GPU\n",
        "# inputs, labels = inputs.to(device), labels.to(device)"
      ],
      "metadata": {
        "id": "BV4VANffWHGP"
      },
      "execution_count": null,
      "outputs": []
    },
    {
      "cell_type": "code",
      "source": [
        "import torch.nn.functional as F\n",
        "\n",
        "criterion = nn.CrossEntropyLoss()\n",
        "optimizer = optim.SGD(net.parameters(), lr=0.001, momentum=0.9)"
      ],
      "metadata": {
        "id": "B99hR_y8WNz4"
      },
      "execution_count": null,
      "outputs": []
    },
    {
      "cell_type": "code",
      "source": [
        "for epoch in range(5):  # example with 5 epochs\n",
        "\n",
        "    running_loss = 0.0\n",
        "    for i, data in enumerate(trainloader, 0):\n",
        "        # data is a list of [inputs, labels]\n",
        "        inputs, labels = data[0].to(device), data[1].to(device)\n",
        "\n",
        "        # Zero the parameter gradients\n",
        "        optimizer.zero_grad()\n",
        "\n",
        "        # Forward + backward + optimize\n",
        "        outputs = net(inputs)\n",
        "        loss = criterion(outputs, labels)\n",
        "        loss.backward()\n",
        "        optimizer.step()\n",
        "\n",
        "        # Print statistics\n",
        "        running_loss += loss.item()\n",
        "        if i % 2000 == 1999:    # print every 2000 mini-batches\n",
        "            print(f'[{epoch + 1}, {i + 1}] loss: {running_loss / 2000:.3f}')\n",
        "            running_loss = 0.0\n",
        "\n",
        "print('Finished Training')"
      ],
      "metadata": {
        "id": "1jKxUD96WRUO"
      },
      "execution_count": null,
      "outputs": []
    },
    {
      "cell_type": "code",
      "source": [
        "correct = 0\n",
        "total = 0\n",
        "\n",
        "# We do not need to track gradients for evaluation\n",
        "with torch.no_grad():\n",
        "    for data in testloader:\n",
        "        images, labels = data[0].to(device), data[1].to(device)\n",
        "\n",
        "        # Forward pass\n",
        "        outputs = net(images)\n",
        "\n",
        "        # Get the predicted class with the highest score\n",
        "        _, predicted = torch.max(outputs.data, 1)\n",
        "\n",
        "        # Update total and correct counts\n",
        "        total += labels.size(0)\n",
        "        correct += (predicted == labels).sum().item()\n",
        "\n",
        "# Print accuracy\n",
        "print(f'Accuracy of the network on the 10000 test images: {100 * correct / total:.2f} %')\n"
      ],
      "metadata": {
        "id": "NuMlgHlJn9tP"
      },
      "execution_count": null,
      "outputs": []
    },
    {
      "cell_type": "code",
      "source": [
        "images, labels = next(dataiter)\n",
        "\n",
        "# Move the inputs and labels to the GPU\n",
        "images, labels = images.to(device), labels.to(device)\n",
        "\n",
        "# Print images\n",
        "imshow(torchvision.utils.make_grid(images.cpu()))  # Move images back to CPU for visualization\n",
        "print('GroundTruth: ', ' '.join(f'{classes[labels[j]]}' for j in range(train_batch_size)))\n",
        "\n",
        "# Get predictions from the model\n",
        "outputs = net(images)\n",
        "\n",
        "# Get the predicted class with the highest score\n",
        "_, predicted = torch.max(outputs, 1)\n",
        "\n",
        "print('Predicted:   ', ' '.join(f'{classes[predicted[j]]}' for j in range(train_batch_size)))"
      ],
      "metadata": {
        "id": "AYN1FdUto8m5"
      },
      "execution_count": null,
      "outputs": []
    }
  ]
}